{
 "cells": [
  {
   "cell_type": "code",
   "execution_count": null,
   "metadata": {},
   "outputs": [],
   "source": [
    "from pathlib import Path\n",
    "import imghdr\n",
    "\n",
    "from pathlib import Path\n",
    "import imghdr\n",
    "\n",
    "img_link=list(Path(\"/Users/leartbaca/Documents/TKU/IPCV/data\").glob(r'**/*.jpg'))\n",
    "#Delete corrupted files\n",
    "count_num=0\n",
    "for lnk in img_link:\n",
    "    binary_img=open(lnk,'rb')\n",
    "    find_img=tf.compat.as_bytes('JFIF') in binary_img.peek(10)\n",
    "    if not find_img:\n",
    "        count_num+=1\n",
    "        os.remove(str(lnk))\n",
    "print('Total %d pcs image delete from Dataset' % count_num)"
   ]
  },
  {
   "cell_type": "code",
   "execution_count": 40,
   "metadata": {},
   "outputs": [
    {
     "name": "stdout",
     "output_type": "stream",
     "text": [
      "Found 595 images belonging to 10 classes.\n",
      "Found 72 images belonging to 10 classes.\n",
      "Found 77 images belonging to 10 classes.\n"
     ]
    }
   ],
   "source": [
    "# import libraries\n",
    "from keras.preprocessing.image import ImageDataGenerator\n",
    "\n",
    "# Create an ImageDataGenerator object without augmentation\n",
    "# datagen = ImageDataGenerator(rescale=1./255) \n",
    "# Create an ImageDataGenerator object with augmentation\n",
    "datagen = ImageDataGenerator(rescale=1./255,\n",
    "                             rotation_range=40,\n",
    "                             width_shift_range=0.2,\n",
    "                             height_shift_range=0.2,\n",
    "                             shear_range=0.2,\n",
    "                             zoom_range=0.2,\n",
    "                             horizontal_flip=True,\n",
    "                             fill_mode='nearest')\n",
    "\n",
    "\n",
    "# Load training images \n",
    "train_generator = datagen.flow_from_directory(\n",
    "    '/Users/leartbaca/Documents/TKU/IPCV/data/train/',\n",
    "    target_size=(224, 224),\n",
    "    batch_size=32,\n",
    "    class_mode='categorical'\n",
    ")\n",
    "\n",
    "\n",
    "# Load validation images\n",
    "valid_generator = datagen.flow_from_directory(\n",
    "    '/Users/leartbaca/Documents/TKU/IPCV/data/valid/',\n",
    "    target_size=(224, 224),\n",
    "    batch_size=32,\n",
    "    class_mode='categorical'\n",
    ")\n",
    "\n",
    "# Load test images\n",
    "test_generator = datagen.flow_from_directory(\n",
    "    '/Users/leartbaca/Documents/TKU/IPCV/data/test/',\n",
    "    target_size=(224, 224),\n",
    "    batch_size=32,\n",
    "    class_mode='categorical'\n",
    ")\n"
   ]
  },
  {
   "cell_type": "code",
   "execution_count": 41,
   "metadata": {},
   "outputs": [
    {
     "name": "stdout",
     "output_type": "stream",
     "text": [
      "Model: \"sequential_1\"\n",
      "_________________________________________________________________\n",
      " Layer (type)                Output Shape              Param #   \n",
      "=================================================================\n",
      " conv2d_4 (Conv2D)           (None, 222, 222, 32)      896       \n",
      "                                                                 \n",
      " max_pooling2d_4 (MaxPooling  (None, 111, 111, 32)     0         \n",
      " 2D)                                                             \n",
      "                                                                 \n",
      " conv2d_5 (Conv2D)           (None, 109, 109, 64)      18496     \n",
      "                                                                 \n",
      " max_pooling2d_5 (MaxPooling  (None, 54, 54, 64)       0         \n",
      " 2D)                                                             \n",
      "                                                                 \n",
      " conv2d_6 (Conv2D)           (None, 52, 52, 128)       73856     \n",
      "                                                                 \n",
      " max_pooling2d_6 (MaxPooling  (None, 26, 26, 128)      0         \n",
      " 2D)                                                             \n",
      "                                                                 \n",
      " conv2d_7 (Conv2D)           (None, 24, 24, 128)       147584    \n",
      "                                                                 \n",
      " max_pooling2d_7 (MaxPooling  (None, 12, 12, 128)      0         \n",
      " 2D)                                                             \n",
      "                                                                 \n",
      " flatten_3 (Flatten)         (None, 18432)             0         \n",
      "                                                                 \n",
      " dense_6 (Dense)             (None, 512)               9437696   \n",
      "                                                                 \n",
      " dense_7 (Dense)             (None, 10)                5130      \n",
      "                                                                 \n",
      "=================================================================\n",
      "Total params: 9,683,658\n",
      "Trainable params: 9,683,658\n",
      "Non-trainable params: 0\n",
      "_________________________________________________________________\n"
     ]
    }
   ],
   "source": [
    "#import libraries\n",
    "from keras.preprocessing.image import ImageDataGenerator\n",
    "from keras.models import Sequential\n",
    "from keras.layers import Conv2D, MaxPooling2D, Flatten, Dense, Dropout\n",
    "\n",
    "\n",
    "# Building the model and displaying the results\n",
    "model = Sequential()\n",
    "model.add(Conv2D(32, (3, 3), activation='relu', input_shape=(224, 224, 3)))\n",
    "model.add(MaxPooling2D((2, 2)))\n",
    "model.add(Conv2D(64, (3, 3), activation='relu'))\n",
    "model.add(MaxPooling2D((2, 2)))\n",
    "model.add(Conv2D(128, (3, 3), activation='relu'))\n",
    "model.add(MaxPooling2D((2, 2)))\n",
    "model.add(Conv2D(128, (3, 3), activation='relu'))\n",
    "model.add(MaxPooling2D((2, 2)))\n",
    "model.add(Flatten())\n",
    "model.add(Dense(512, activation='relu'))\n",
    "model.add(Dense(10, activation='softmax')) \n",
    "model.summary()\n",
    "\n"
   ]
  },
  {
   "cell_type": "code",
   "execution_count": 42,
   "metadata": {},
   "outputs": [
    {
     "name": "stderr",
     "output_type": "stream",
     "text": [
      "/var/folders/8x/2l96kkzn7hs053kqw5nwhwxw0000gn/T/ipykernel_7474/4159989566.py:10: UserWarning: `Model.fit_generator` is deprecated and will be removed in a future version. Please use `Model.fit`, which supports generators.\n",
      "  history = model.fit_generator(\n"
     ]
    },
    {
     "name": "stdout",
     "output_type": "stream",
     "text": [
      "Epoch 1/30\n",
      "10/10 [==============================] - 33s 3s/step - loss: 3.2304 - accuracy: 0.1140 - val_loss: 2.3018 - val_accuracy: 0.1562\n",
      "Epoch 2/30\n",
      "10/10 [==============================] - 34s 3s/step - loss: 2.3055 - accuracy: 0.1187 - val_loss: 2.3038 - val_accuracy: 0.1406\n",
      "Epoch 3/30\n",
      "10/10 [==============================] - 41s 4s/step - loss: 2.3102 - accuracy: 0.1219 - val_loss: 2.2910 - val_accuracy: 0.1719\n",
      "Epoch 4/30\n",
      "10/10 [==============================] - 37s 4s/step - loss: 2.4111 - accuracy: 0.1250 - val_loss: 2.2769 - val_accuracy: 0.2344\n",
      "Epoch 5/30\n",
      "10/10 [==============================] - 37s 4s/step - loss: 2.2971 - accuracy: 0.1312 - val_loss: 2.2849 - val_accuracy: 0.1562\n",
      "Epoch 6/30\n",
      "10/10 [==============================] - 37s 4s/step - loss: 2.2609 - accuracy: 0.1813 - val_loss: 2.1863 - val_accuracy: 0.2344\n",
      "Epoch 7/30\n",
      "10/10 [==============================] - 30s 3s/step - loss: 2.3884 - accuracy: 0.1857 - val_loss: 2.2720 - val_accuracy: 0.1562\n",
      "Epoch 8/30\n",
      "10/10 [==============================] - 28s 3s/step - loss: 2.2549 - accuracy: 0.2020 - val_loss: 2.2409 - val_accuracy: 0.1250\n",
      "Epoch 9/30\n",
      "10/10 [==============================] - 31s 3s/step - loss: 2.1562 - accuracy: 0.2094 - val_loss: 2.1837 - val_accuracy: 0.2188\n",
      "Epoch 10/30\n",
      "10/10 [==============================] - 30s 3s/step - loss: 2.2373 - accuracy: 0.2150 - val_loss: 2.1968 - val_accuracy: 0.1719\n",
      "Epoch 11/30\n",
      "10/10 [==============================] - 28s 3s/step - loss: 2.1190 - accuracy: 0.2573 - val_loss: 2.1167 - val_accuracy: 0.2188\n",
      "Epoch 12/30\n",
      "10/10 [==============================] - 29s 3s/step - loss: 2.1088 - accuracy: 0.2345 - val_loss: 2.2859 - val_accuracy: 0.1719\n",
      "Epoch 13/30\n",
      "10/10 [==============================] - 28s 3s/step - loss: 2.1166 - accuracy: 0.2182 - val_loss: 2.0913 - val_accuracy: 0.2500\n",
      "Epoch 14/30\n",
      "10/10 [==============================] - 31s 3s/step - loss: 2.0420 - accuracy: 0.2844 - val_loss: 2.0841 - val_accuracy: 0.3125\n",
      "Epoch 15/30\n",
      "10/10 [==============================] - 30s 3s/step - loss: 2.0437 - accuracy: 0.2750 - val_loss: 1.9959 - val_accuracy: 0.2812\n",
      "Epoch 16/30\n",
      "10/10 [==============================] - 32s 3s/step - loss: 2.0184 - accuracy: 0.2410 - val_loss: 1.9772 - val_accuracy: 0.2812\n",
      "Epoch 17/30\n",
      "10/10 [==============================] - 34s 3s/step - loss: 1.9854 - accuracy: 0.2719 - val_loss: 2.0318 - val_accuracy: 0.3281\n",
      "Epoch 18/30\n",
      "10/10 [==============================] - 37s 4s/step - loss: 1.9486 - accuracy: 0.2801 - val_loss: 2.2298 - val_accuracy: 0.2344\n",
      "Epoch 19/30\n",
      "10/10 [==============================] - 36s 3s/step - loss: 1.9839 - accuracy: 0.3000 - val_loss: 1.9952 - val_accuracy: 0.2344\n",
      "Epoch 20/30\n",
      "10/10 [==============================] - 41s 4s/step - loss: 1.9231 - accuracy: 0.3375 - val_loss: 1.9475 - val_accuracy: 0.3281\n",
      "Epoch 21/30\n",
      "10/10 [==============================] - 35s 3s/step - loss: 1.8954 - accuracy: 0.3257 - val_loss: 1.8473 - val_accuracy: 0.3125\n",
      "Epoch 22/30\n",
      "10/10 [==============================] - 32s 3s/step - loss: 1.8591 - accuracy: 0.3583 - val_loss: 2.1821 - val_accuracy: 0.2031\n",
      "Epoch 23/30\n",
      "10/10 [==============================] - 32s 3s/step - loss: 1.9046 - accuracy: 0.3160 - val_loss: 1.8779 - val_accuracy: 0.3750\n",
      "Epoch 24/30\n",
      "10/10 [==============================] - 34s 3s/step - loss: 1.8521 - accuracy: 0.3531 - val_loss: 2.0375 - val_accuracy: 0.3438\n",
      "Epoch 25/30\n",
      "10/10 [==============================] - 32s 3s/step - loss: 1.7743 - accuracy: 0.3779 - val_loss: 1.9479 - val_accuracy: 0.3125\n",
      "Epoch 26/30\n",
      "10/10 [==============================] - 34s 3s/step - loss: 1.7614 - accuracy: 0.3781 - val_loss: 2.0239 - val_accuracy: 0.3281\n",
      "Epoch 27/30\n",
      "10/10 [==============================] - 33s 3s/step - loss: 1.8674 - accuracy: 0.3125 - val_loss: 1.8863 - val_accuracy: 0.3438\n",
      "Epoch 28/30\n",
      "10/10 [==============================] - 35s 3s/step - loss: 1.8147 - accuracy: 0.3875 - val_loss: 2.0115 - val_accuracy: 0.2812\n",
      "Epoch 29/30\n",
      "10/10 [==============================] - 33s 3s/step - loss: 1.7684 - accuracy: 0.4062 - val_loss: 1.9185 - val_accuracy: 0.3281\n",
      "Epoch 30/30\n",
      "10/10 [==============================] - 33s 3s/step - loss: 1.7396 - accuracy: 0.3811 - val_loss: 1.8216 - val_accuracy: 0.3125\n"
     ]
    }
   ],
   "source": [
    "#import libraries\n",
    "from keras.optimizers import RMSprop\n",
    "\n",
    "# Compiling the model\n",
    "model.compile(loss='categorical_crossentropy',\n",
    "              optimizer=RMSprop(learning_rate=0.001),\n",
    "              metrics=['accuracy'])\n",
    "\n",
    "# Training the basic model \n",
    "history = model.fit_generator(\n",
    "    train_generator,\n",
    "    steps_per_epoch=10, # Change the number of steps per epoch\n",
    "    epochs=30,\n",
    "    validation_data=valid_generator,\n",
    "    validation_steps=2 # Change the number of validation steps\n",
    ")\n"
   ]
  },
  {
   "cell_type": "code",
   "execution_count": 60,
   "metadata": {},
   "outputs": [],
   "source": [
    "# Importing the ResNet50 model and the ImageDataGenerator\n",
    "from tensorflow.keras.applications.resnet50 import ResNet50\n",
    "from tensorflow.keras.preprocessing.image import ImageDataGenerator\n",
    "from tensorflow.keras.models import Model\n",
    "from keras.optimizers import Adam\n"
   ]
  },
  {
   "cell_type": "code",
   "execution_count": 61,
   "metadata": {},
   "outputs": [],
   "source": [
    "# Loading the ResNet50 model\n",
    "model = ResNet50(weights='imagenet', include_top=False, input_shape=(224, 224, 3))"
   ]
  },
  {
   "cell_type": "code",
   "execution_count": 62,
   "metadata": {},
   "outputs": [],
   "source": [
    "# Freezing the layers of the model to prevent them from being updated during training\n",
    "for layer in model.layers:\n",
    "    layer.trainable = False"
   ]
  },
  {
   "cell_type": "code",
   "execution_count": 63,
   "metadata": {},
   "outputs": [],
   "source": [
    "# Adding a fully-connected layer with 512 units on top of the ResNet50 model\n",
    "x = model.output\n",
    "x = Flatten()(x)\n",
    "x = Dense(512, activation='relu')(x)"
   ]
  },
  {
   "cell_type": "code",
   "execution_count": 64,
   "metadata": {},
   "outputs": [],
   "source": [
    "# Adding a final layer with 10 units for the 10 dog breeds\n",
    "predictions = Dense(10, activation='softmax')(x)"
   ]
  },
  {
   "cell_type": "code",
   "execution_count": 65,
   "metadata": {},
   "outputs": [],
   "source": [
    "# Creating a new model with the layers from the ResNet50 model and the fully-connected layer\n",
    "model = Model(inputs=model.input, outputs=predictions)\n"
   ]
  },
  {
   "cell_type": "code",
   "execution_count": 67,
   "metadata": {},
   "outputs": [],
   "source": [
    "# Compiling the model with a categorical cross-entropy loss and an Adam optimizer\n",
    "optimizer = Adam(learning_rate=0.001)\n",
    "model.compile(loss='categorical_crossentropy', optimizer='adam', metrics=['accuracy'])\n"
   ]
  },
  {
   "cell_type": "code",
   "execution_count": 68,
   "metadata": {},
   "outputs": [],
   "source": [
    "# Defining the directories for the train, validation, and test sets\n",
    "train_dir = '/Users/leartbaca/Documents/TKU/IPCV/data/train/'\n",
    "valid_dir = '/Users/leartbaca/Documents/TKU/IPCV/data/valid/'\n",
    "test_dir = '/Users/leartbaca/Documents/TKU/IPCV/data/test/'"
   ]
  },
  {
   "cell_type": "code",
   "execution_count": 69,
   "metadata": {},
   "outputs": [],
   "source": [
    "# Creating image generators for the train, validation, and test sets\n",
    "# Without augmentation\n",
    "train_datagen = ImageDataGenerator(rescale=1./255) \n",
    "# With augmentation\n",
    "#train_datagen = ImageDataGenerator(rescale=1./255,\n",
    "                             #rotation_range=40,\n",
    "                             #width_shift_range=0.2,\n",
    "                             #height_shift_range=0.2,\n",
    "                             #shear_range=0.2,\n",
    "                             #zoom_range=0.2,\n",
    "                             #horizontal_flip=True,\n",
    "                             #fill_mode='nearest')\n",
    "\n",
    "valid_datagen = ImageDataGenerator(rescale=1./255)\n",
    "test_datagen = ImageDataGenerator(rescale=1./255)"
   ]
  },
  {
   "cell_type": "code",
   "execution_count": 70,
   "metadata": {},
   "outputs": [
    {
     "name": "stdout",
     "output_type": "stream",
     "text": [
      "Found 595 images belonging to 10 classes.\n"
     ]
    }
   ],
   "source": [
    "# Creating generators for the train sets\n",
    "train_generator = train_datagen.flow_from_directory(\n",
    "    train_dir,\n",
    "    target_size=(224, 224),\n",
    "    batch_size=32,\n",
    "    class_mode='categorical')\n",
    "#)\n"
   ]
  },
  {
   "cell_type": "code",
   "execution_count": 71,
   "metadata": {},
   "outputs": [
    {
     "name": "stdout",
     "output_type": "stream",
     "text": [
      "Found 72 images belonging to 10 classes.\n"
     ]
    }
   ],
   "source": [
    "# Creating generatiors for validation sets\n",
    "valid_generator = valid_datagen.flow_from_directory(\n",
    "    valid_dir,\n",
    "    target_size=(224, 224),\n",
    "    batch_size=32,\n",
    "    class_mode='categorical')"
   ]
  },
  {
   "cell_type": "code",
   "execution_count": 72,
   "metadata": {},
   "outputs": [
    {
     "name": "stdout",
     "output_type": "stream",
     "text": [
      "Found 77 images belonging to 10 classes.\n"
     ]
    }
   ],
   "source": [
    "# Creating a generator for test sets\n",
    "test_generator = test_datagen.flow_from_directory(\n",
    "    test_dir,\n",
    "    target_size=(224, 224),\n",
    "    batch_size=32,\n",
    "    class_mode='categorical')"
   ]
  },
  {
   "cell_type": "code",
   "execution_count": 73,
   "metadata": {},
   "outputs": [
    {
     "name": "stderr",
     "output_type": "stream",
     "text": [
      "/var/folders/8x/2l96kkzn7hs053kqw5nwhwxw0000gn/T/ipykernel_7474/3777616139.py:2: UserWarning: `Model.fit_generator` is deprecated and will be removed in a future version. Please use `Model.fit`, which supports generators.\n",
      "  history = model.fit_generator(\n"
     ]
    },
    {
     "name": "stdout",
     "output_type": "stream",
     "text": [
      "Epoch 1/30\n",
      "19/19 [==============================] - 89s 4s/step - loss: 23.7948 - accuracy: 0.1042 - val_loss: 8.0785 - val_accuracy: 0.1528\n",
      "Epoch 2/30\n",
      "19/19 [==============================] - 68s 4s/step - loss: 5.3601 - accuracy: 0.1882 - val_loss: 3.9302 - val_accuracy: 0.1250\n",
      "Epoch 3/30\n",
      "19/19 [==============================] - 66s 3s/step - loss: 2.6899 - accuracy: 0.1782 - val_loss: 2.6993 - val_accuracy: 0.1389\n",
      "Epoch 4/30\n",
      "19/19 [==============================] - 65s 3s/step - loss: 2.1704 - accuracy: 0.2605 - val_loss: 2.4692 - val_accuracy: 0.2361\n",
      "Epoch 5/30\n",
      "19/19 [==============================] - 64s 3s/step - loss: 2.0621 - accuracy: 0.2807 - val_loss: 2.3973 - val_accuracy: 0.1806\n",
      "Epoch 6/30\n",
      "19/19 [==============================] - 63s 3s/step - loss: 1.9075 - accuracy: 0.3345 - val_loss: 2.1562 - val_accuracy: 0.2222\n",
      "Epoch 7/30\n",
      "19/19 [==============================] - 64s 3s/step - loss: 1.9235 - accuracy: 0.3429 - val_loss: 2.2329 - val_accuracy: 0.2500\n",
      "Epoch 8/30\n",
      "19/19 [==============================] - 64s 3s/step - loss: 1.8457 - accuracy: 0.3916 - val_loss: 2.2019 - val_accuracy: 0.2500\n",
      "Epoch 9/30\n",
      "19/19 [==============================] - 64s 3s/step - loss: 1.8965 - accuracy: 0.4050 - val_loss: 2.3342 - val_accuracy: 0.2222\n",
      "Epoch 10/30\n",
      "19/19 [==============================] - 65s 3s/step - loss: 1.7262 - accuracy: 0.4185 - val_loss: 2.0904 - val_accuracy: 0.3056\n",
      "Epoch 11/30\n",
      "19/19 [==============================] - 64s 3s/step - loss: 1.6559 - accuracy: 0.4319 - val_loss: 2.1953 - val_accuracy: 0.2361\n",
      "Epoch 12/30\n",
      "19/19 [==============================] - 63s 3s/step - loss: 1.4778 - accuracy: 0.5244 - val_loss: 1.9525 - val_accuracy: 0.3333\n",
      "Epoch 13/30\n",
      "19/19 [==============================] - 64s 3s/step - loss: 1.4295 - accuracy: 0.5193 - val_loss: 2.2463 - val_accuracy: 0.2917\n",
      "Epoch 14/30\n",
      "19/19 [==============================] - 65s 3s/step - loss: 1.5165 - accuracy: 0.4874 - val_loss: 1.9019 - val_accuracy: 0.3333\n",
      "Epoch 15/30\n",
      "19/19 [==============================] - 64s 3s/step - loss: 1.4554 - accuracy: 0.5042 - val_loss: 2.1894 - val_accuracy: 0.2917\n",
      "Epoch 16/30\n",
      "19/19 [==============================] - 63s 3s/step - loss: 1.3852 - accuracy: 0.5462 - val_loss: 1.9854 - val_accuracy: 0.3889\n",
      "Epoch 17/30\n",
      "19/19 [==============================] - 66s 3s/step - loss: 1.2895 - accuracy: 0.5916 - val_loss: 2.1109 - val_accuracy: 0.2500\n",
      "Epoch 18/30\n",
      "19/19 [==============================] - 64s 3s/step - loss: 1.2538 - accuracy: 0.6118 - val_loss: 2.0210 - val_accuracy: 0.3611\n",
      "Epoch 19/30\n",
      "19/19 [==============================] - 64s 3s/step - loss: 1.3115 - accuracy: 0.5496 - val_loss: 2.0184 - val_accuracy: 0.2778\n",
      "Epoch 20/30\n",
      "19/19 [==============================] - 64s 3s/step - loss: 1.2519 - accuracy: 0.5866 - val_loss: 2.0058 - val_accuracy: 0.3611\n",
      "Epoch 21/30\n",
      "19/19 [==============================] - 64s 3s/step - loss: 1.0807 - accuracy: 0.6857 - val_loss: 2.1337 - val_accuracy: 0.3194\n",
      "Epoch 22/30\n",
      "19/19 [==============================] - 64s 3s/step - loss: 1.0593 - accuracy: 0.6908 - val_loss: 1.8603 - val_accuracy: 0.3056\n",
      "Epoch 23/30\n",
      "19/19 [==============================] - 66s 3s/step - loss: 1.0556 - accuracy: 0.6739 - val_loss: 1.8974 - val_accuracy: 0.3611\n",
      "Epoch 24/30\n",
      "19/19 [==============================] - 73s 4s/step - loss: 0.9864 - accuracy: 0.7059 - val_loss: 1.9933 - val_accuracy: 0.3194\n",
      "Epoch 25/30\n",
      "19/19 [==============================] - 80s 4s/step - loss: 1.0154 - accuracy: 0.6555 - val_loss: 2.0707 - val_accuracy: 0.2639\n",
      "Epoch 26/30\n",
      "19/19 [==============================] - 64s 3s/step - loss: 1.0032 - accuracy: 0.7092 - val_loss: 1.8152 - val_accuracy: 0.3889\n",
      "Epoch 27/30\n",
      "19/19 [==============================] - 67s 4s/step - loss: 0.9142 - accuracy: 0.7429 - val_loss: 2.0729 - val_accuracy: 0.3194\n",
      "Epoch 28/30\n",
      "19/19 [==============================] - 64s 3s/step - loss: 0.8567 - accuracy: 0.7563 - val_loss: 1.9440 - val_accuracy: 0.3333\n",
      "Epoch 29/30\n",
      "19/19 [==============================] - 79s 4s/step - loss: 0.7700 - accuracy: 0.7933 - val_loss: 2.4359 - val_accuracy: 0.2639\n",
      "Epoch 30/30\n",
      "19/19 [==============================] - 65s 3s/step - loss: 1.2275 - accuracy: 0.5731 - val_loss: 2.4986 - val_accuracy: 0.2917\n"
     ]
    }
   ],
   "source": [
    "# Training the model using the train generator\n",
    "history = model.fit_generator(\n",
    "    train_generator,\n",
    "    steps_per_epoch=len(train_generator),\n",
    "    epochs=30,\n",
    "    validation_data=valid_generator,\n",
    "    validation_steps=len(valid_generator))"
   ]
  },
  {
   "cell_type": "code",
   "execution_count": 74,
   "metadata": {},
   "outputs": [
    {
     "name": "stderr",
     "output_type": "stream",
     "text": [
      "/var/folders/8x/2l96kkzn7hs053kqw5nwhwxw0000gn/T/ipykernel_7474/1559970086.py:2: UserWarning: `Model.evaluate_generator` is deprecated and will be removed in a future version. Please use `Model.evaluate`, which supports generators.\n",
      "  scores = model.evaluate_generator(test_generator, len(test_generator))\n"
     ]
    },
    {
     "name": "stdout",
     "output_type": "stream",
     "text": [
      "Test loss: 2.6826720237731934\n",
      "Test accuracy: 0.2857142984867096\n"
     ]
    }
   ],
   "source": [
    "# Evaluating the model using the test generator\n",
    "scores = model.evaluate_generator(test_generator, len(test_generator))\n",
    "print(\"Test loss:\", scores[0])\n",
    "print(\"Test accuracy:\", scores[1])"
   ]
  },
  {
   "cell_type": "code",
   "execution_count": 75,
   "metadata": {},
   "outputs": [
    {
     "data": {
      "text/plain": [
       "<module 'matplotlib.pyplot' from '/Library/Frameworks/Python.framework/Versions/3.10/lib/python3.10/site-packages/matplotlib/pyplot.py'>"
      ]
     },
     "execution_count": 75,
     "metadata": {},
     "output_type": "execute_result"
    },
    {
     "data": {
      "image/png": "[encoded data removed]",
      "text/plain": [
       "<Figure size 800x800 with 2 Axes>"
      ]
     },
     "metadata": {},
     "output_type": "display_data"
    }
   ],
   "source": [
    "#importing libraries\n",
    "import matplotlib.pyplot as plt\n",
    "\n",
    "# Visualizing the training and validation loss and accuracy\n",
    "acc = history.history['accuracy']\n",
    "val_acc = history.history['val_accuracy']\n",
    "loss = history.history['loss']\n",
    "val_loss = history.history['val_loss']\n",
    "\n",
    "epochs_range = range(len(acc))\n",
    "\n",
    "plt.figure(figsize=(8, 8))\n",
    "plt.subplot(2, 1, 1)\n",
    "plt.plot(epochs_range, acc, label='Training Accuracy')\n",
    "plt.plot(epochs_range, val_acc, label='Validation Accuracy')\n",
    "plt.legend(loc='lower right')\n",
    "plt.title('Training and Validation Accuracy')\n",
    "\n",
    "plt.subplot(2, 1, 2)\n",
    "plt.plot(epochs_range, loss, label='Training Loss')\n",
    "plt\n"
   ]
  },
  {
   "cell_type": "code",
   "execution_count": 76,
   "metadata": {},
   "outputs": [
    {
     "name": "stdout",
     "output_type": "stream",
     "text": [
      "3/3 [==============================] - 9s 2s/step\n",
      "Top-1 error rate: 0.922\n",
      "Top-5 error rate: 0.494\n"
     ]
    }
   ],
   "source": [
    "import numpy as np\n",
    "\n",
    "# Calculate the predictions for the test images\n",
    "predictions = model.predict(test_generator)\n",
    "\n",
    "# Get the true labels for the test images\n",
    "true_labels = test_generator.classes\n",
    "\n",
    "# Get the top-1 predictions\n",
    "top_1_predictions = np.argmax(predictions, axis=-1)\n",
    "\n",
    "# Calculate the top-1 error rate\n",
    "top_1_error_rate = np.mean(top_1_predictions != true_labels)\n",
    "\n",
    "# Print the top-1 error rate\n",
    "print(f\"Top-1 error rate: {top_1_error_rate:.3f}\")\n",
    "\n",
    "# Get the top-5 predictions\n",
    "top_5_predictions = np.argsort(predictions, axis=-1)[:, -5:]\n",
    "\n",
    "# Check if the true label is in the top-5 predictions\n",
    "top_5_correct = np.any(top_5_predictions == true_labels[:, None], axis=-1)\n",
    "\n",
    "# Calculate the top-5 error rate\n",
    "top_5_error_rate = 1 - np.mean(top_5_correct)\n",
    "\n",
    "# Print the top-5 error rate\n",
    "print(f\"Top-5 error rate: {top_5_error_rate:.3f}\")\n"
   ]
  },
  {
   "cell_type": "code",
   "execution_count": 77,
   "metadata": {},
   "outputs": [
    {
     "name": "stderr",
     "output_type": "stream",
     "text": [
      "/var/folders/8x/2l96kkzn7hs053kqw5nwhwxw0000gn/T/ipykernel_7474/4180915168.py:2: UserWarning: `Model.evaluate_generator` is deprecated and will be removed in a future version. Please use `Model.evaluate`, which supports generators.\n",
      "  scores = model.evaluate_generator(test_generator, steps=len(test_generator))\n"
     ]
    },
    {
     "name": "stdout",
     "output_type": "stream",
     "text": [
      "Accuracy on test dataset: 28.57%\n"
     ]
    }
   ],
   "source": [
    "# Evaluate the model on the test dataset\n",
    "scores = model.evaluate_generator(test_generator, steps=len(test_generator))\n",
    "print(\"Accuracy on test dataset: %.2f%%\" % (scores[1]*100))\n"
   ]
  }
 ],
 "metadata": {
  "kernelspec": {
   "display_name": "Python 3.10.7 64-bit",
   "language": "python",
   "name": "python3"
  },
  "language_info": {
   "codemirror_mode": {
    "name": "ipython",
    "version": 3
   },
   "file_extension": ".py",
   "mimetype": "text/x-python",
   "name": "python",
   "nbconvert_exporter": "python",
   "pygments_lexer": "ipython3",
   "version": "3.10.7"
  },
  "orig_nbformat": 4,
  "vscode": {
   "interpreter": {
    "hash": "aee8b7b246df8f9039afb4144a1f6fd8d2ca17a180786b69acc140d282b71a49"
   }
  }
 },
 "nbformat": 4,
 "nbformat_minor": 2
}
